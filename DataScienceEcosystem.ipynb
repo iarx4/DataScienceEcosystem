{
 "cells": [
  {
   "cell_type": "markdown",
   "id": "9973e626-3f7a-43fe-9ddc-25a0c4a293f2",
   "metadata": {},
   "source": [
    "# Data Science Tools and Ecosystem"
   ]
  },
  {
   "cell_type": "markdown",
   "id": "178a8d85-d7e4-4a20-b5fc-4e31f1243f9e",
   "metadata": {},
   "source": [
    "In this notebook, Data Science Tools and Ecosystem are summarized."
   ]
  },
  {
   "cell_type": "markdown",
   "id": "f342589a-a7bd-4494-9276-e32b1b57ec85",
   "metadata": {},
   "source": [
    "Some of the popular languages that Data Scientists use are:\n",
    "\n",
    "1. Python\n",
    "2. R\n",
    "3. SQL\n",
    "4. Java\n",
    "5. Scala\n",
    "6. C++\n",
    "7. JavaScript\n",
    "8. Julia"
   ]
  },
  {
   "cell_type": "markdown",
   "id": "21d70341-d04d-431a-91b4-98d289b960d1",
   "metadata": {},
   "source": [
    "Some of the commonly used libraries used by Data Scientists include:\n",
    "\n",
    "1. Scientific Computing (ex: Pandas, Numpy)\n",
    "2. Visualization (ex: Matplotlib, Seaborn)\n",
    "3. High Level ML (ex: Scikit-Learn, Keras)\n",
    "4. Deep Learning (ex: Tensor Flow, Pytourch)\n",
    "5. Other languages"
   ]
  },
  {
   "cell_type": "markdown",
   "id": "6af80360-3d37-464a-b9a5-53e5f97e4514",
   "metadata": {},
   "source": [
    "| Data Science Tools |\n",
    "| ------ |\n",
    "| RStudio |\n",
    "| Tensor Flow |\n",
    "| Jupyter Notebook |"
   ]
  },
  {
   "cell_type": "markdown",
   "id": "b95dd3ef-1108-463b-9701-ae3020a399e5",
   "metadata": {},
   "source": [
    "### Below are a few examples of evaluating arithmetic expressions in Python"
   ]
  },
  {
   "cell_type": "code",
   "execution_count": 11,
   "id": "1a51af95-bf2b-4dce-9452-dc2c3c533d1f",
   "metadata": {},
   "outputs": [
    {
     "data": {
      "text/plain": [
       "17"
      ]
     },
     "execution_count": 11,
     "metadata": {},
     "output_type": "execute_result"
    }
   ],
   "source": [
    "# This a simple arithmetic expression to mutiply then add integers #\n",
    "(3*4)+5"
   ]
  },
  {
   "cell_type": "code",
   "execution_count": 13,
   "id": "d8ff7ce8-573b-4c6f-a215-566e89044be4",
   "metadata": {},
   "outputs": [
    {
     "data": {
      "text/plain": [
       "3.3333333333333335"
      ]
     },
     "execution_count": 13,
     "metadata": {},
     "output_type": "execute_result"
    }
   ],
   "source": [
    "# This will convert 200 minutes to hours by diving by 60 #\n",
    "200/60"
   ]
  },
  {
   "cell_type": "markdown",
   "id": "e8d67302-d009-4907-9cd0-c1cc3a84de48",
   "metadata": {},
   "source": [
    "## Author\n",
    "Ian Roth"
   ]
  },
  {
   "cell_type": "code",
   "execution_count": null,
   "id": "772b52d2-049f-4b56-a9c9-d3d3493f2245",
   "metadata": {},
   "outputs": [],
   "source": []
  }
 ],
 "metadata": {
  "kernelspec": {
   "display_name": "Python 3 (ipykernel)",
   "language": "python",
   "name": "python3"
  },
  "language_info": {
   "codemirror_mode": {
    "name": "ipython",
    "version": 3
   },
   "file_extension": ".py",
   "mimetype": "text/x-python",
   "name": "python",
   "nbconvert_exporter": "python",
   "pygments_lexer": "ipython3",
   "version": "3.11.7"
  }
 },
 "nbformat": 4,
 "nbformat_minor": 5
}
